{
 "cells": [
  {
   "cell_type": "markdown",
   "metadata": {},
   "source": [
    "# Vector Database CRUD Class\n",
    "\n",
    "Este codigo incluye la clase VectorDatabase la cual contiene las funcionalidades CRUD y de creacion de la base de datos."
   ]
  },
  {
   "cell_type": "code",
   "execution_count": 4,
   "metadata": {},
   "outputs": [],
   "source": [
    "#Importacion de librerias\n",
    "import sqlite3\n",
    "import numpy as np\n",
    "import matplotlib.pyplot as plt\n",
    "\n",
    "# Vector Database with CRUD Operations\n",
    "class VectorDatabase:\n",
    "    def __init__(self, db_name):\n",
    "        self.conn = sqlite3.connect(db_name)\n",
    "        self.cursor = self.conn.cursor()\n",
    "        self._create_table()\n",
    "\n",
    "    def _create_table(self):\n",
    "        self.cursor.execute(\"\"\"\n",
    "        CREATE TABLE IF NOT EXISTS embeddings (\n",
    "            id INTEGER PRIMARY KEY,\n",
    "            name TEXT,\n",
    "            embedding BLOB\n",
    "        )\n",
    "        \"\"\")\n",
    "        self.conn.commit()\n",
    "\n",
    "    def create(self, name, embedding):\n",
    "        embedding_blob = np.array(embedding, dtype=np.float32).tobytes()\n",
    "        self.cursor.execute(\n",
    "            \"INSERT INTO embeddings (name, embedding) VALUES (?, ?)\",\n",
    "            (name, embedding_blob)\n",
    "        )\n",
    "        self.conn.commit()\n",
    "    \n",
    "    def read(self, name):\n",
    "        self.cursor.execute(\"SELECT * FROM embeddings WHERE name = ?\", (name,))\n",
    "        result = self.cursor.fetchone()\n",
    "        if result:\n",
    "            return result[0], result[1], np.frombuffer(result[2], dtype=np.float32)\n",
    "        return None\n",
    "\n",
    "    def update(self, name, new_embedding):\n",
    "        embedding_blob = np.array(new_embedding, dtype=np.float32).tobytes()\n",
    "        self.cursor.execute(\n",
    "            \"UPDATE embeddings SET embedding = ? WHERE name = ?\",\n",
    "            (embedding_blob, name)\n",
    "        )\n",
    "        self.conn.commit()\n",
    "\n",
    "    def delete(self, name):\n",
    "        self.cursor.execute(\"DELETE FROM embeddings WHERE name = ?\", (name,))\n",
    "        self.conn.commit()\n",
    "\n",
    "    def close(self):\n",
    "        self.conn.close()"
   ]
  },
  {
   "cell_type": "markdown",
   "metadata": {},
   "source": [
    "## Example execution file\n",
    "\n",
    "Este codigo sirve para probar la funcionalidad de la base de datos"
   ]
  },
  {
   "cell_type": "code",
   "execution_count": 5,
   "metadata": {},
   "outputs": [],
   "source": [
    "db = VectorDatabase(\"vector_database.db\")\n",
    "\n",
    "db.create(\"vector_1\", [1, 0, 0])\n",
    "db.create(\"vector_2\", [0, 1, 0])\n",
    "\n",
    "print(db.read(\"vector_1\"))\n",
    "\n",
    "db.update(\"vector_1\", [0.5, 0.5, 0])\n",
    "\n",
    "db.delete(\"vector_2\")"
   ]
  }
 ],
 "metadata": {
  "kernelspec": {
   "display_name": "Python 3",
   "language": "python",
   "name": "python3"
  },
  "language_info": {
   "codemirror_mode": {
    "name": "ipython",
    "version": 3
   },
   "file_extension": ".py",
   "mimetype": "text/x-python",
   "name": "python",
   "nbconvert_exporter": "python",
   "pygments_lexer": "ipython3",
   "version": "3.10.11"
  }
 },
 "nbformat": 4,
 "nbformat_minor": 2
}

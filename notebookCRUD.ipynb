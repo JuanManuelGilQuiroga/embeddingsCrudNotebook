{
 "cells": [
  {
   "cell_type": "markdown",
   "metadata": {},
   "source": [
    "# Embedding CRUD Notebook\n",
    "\n",
    "Este codigo incluye la clase EmbeddingCRUD la cual contiene las funcionalidades CRUD y las importaciones necesarias para el funcionamiento de la misma."
   ]
  },
  {
   "cell_type": "code",
   "execution_count": 1,
   "metadata": {},
   "outputs": [
    {
     "name": "stderr",
     "output_type": "stream",
     "text": [
      "C:\\Users\\Solvo\\AppData\\Local\\Packages\\PythonSoftwareFoundation.Python.3.10_qbz5n2kfra8p0\\LocalCache\\local-packages\\Python310\\site-packages\\tqdm\\auto.py:21: TqdmWarning: IProgress not found. Please update jupyter and ipywidgets. See https://ipywidgets.readthedocs.io/en/stable/user_install.html\n",
      "  from .autonotebook import tqdm as notebook_tqdm\n"
     ]
    }
   ],
   "source": [
    "import pandas as pd\n",
    "from sentence_transformers import SentenceTransformer\n",
    "import numpy as np\n",
    "\n",
    "class EmbeddingCRUD:\n",
    "    def __init__(self):\n",
    "        self.model = SentenceTransformer('all-MiniLM-L6-v2')\n",
    "        self.df = pd.DataFrame(columns=['text', 'embedding'])\n",
    "\n",
    "    def create(self, text):\n",
    "        embedding = self.model.encode(text)\n",
    "        self.df = pd.concat([self.df, pd.DataFrame({'text': [text], 'embedding': [embedding.tolist()]})], ignore_index=True)\n",
    "        print(f\"Se ha creado un nuevo embedding para el texto: '{text}'\")\n",
    "\n",
    "    def read(self, query):\n",
    "        query_embedding = self.model.encode(query)\n",
    "        self.df['similarity'] = self.df['embedding'].apply(lambda x: np.dot(x, query_embedding) / (np.linalg.norm(x) * np.linalg.norm(query_embedding)))\n",
    "        print(f\"Resultados de la búsqueda para la consulta '{query}':\")\n",
    "        return self.df.sort_values('similarity', ascending=False)\n",
    "    \n",
    "    def update(self, index, new_text):\n",
    "        old_text = self.df.at[index, 'text']\n",
    "        self.df.at[index, 'text'] = new_text\n",
    "        self.df.at[index, 'embedding'] = self.model.encode(new_text).tolist()\n",
    "        print(f\"El texto en el índice {index} ha sido actualizado de '{old_text}' a '{new_text}'\")\n",
    "\n",
    "    def delete(self, index):\n",
    "        deleted_text = self.df.at[index, 'text']\n",
    "        self.df = self.df.drop(index)\n",
    "        print(f\"Se ha eliminado el texto '{deleted_text}' del índice {index}\")"
   ]
  },
  {
   "cell_type": "markdown",
   "metadata": {},
   "source": [
    "## Example execution file\n",
    "\n",
    "Instancia de la clase con los metodos CRUD"
   ]
  },
  {
   "cell_type": "code",
   "execution_count": 2,
   "metadata": {},
   "outputs": [],
   "source": [
    "crud = EmbeddingCRUD()\n"
   ]
  },
  {
   "cell_type": "markdown",
   "metadata": {},
   "source": [
    "##### Crear algunos embeddings"
   ]
  },
  {
   "cell_type": "code",
   "execution_count": 3,
   "metadata": {},
   "outputs": [
    {
     "name": "stdout",
     "output_type": "stream",
     "text": [
      "Se ha creado un nuevo embedding para el texto: 'This is a sample sentence'\n",
      "Se ha creado un nuevo embedding para el texto: 'Another sentence for testing'\n"
     ]
    }
   ],
   "source": [
    "crud.create(\"This is a sample sentence\")\n",
    "crud.create(\"Another sentence for testing\")"
   ]
  },
  {
   "cell_type": "markdown",
   "metadata": {},
   "source": [
    "##### Buscar embeddings similares a una query"
   ]
  },
  {
   "cell_type": "code",
   "execution_count": 4,
   "metadata": {},
   "outputs": [
    {
     "name": "stdout",
     "output_type": "stream",
     "text": [
      "Resultados de la búsqueda para la consulta 'similar sentence':\n",
      "                           text  \\\n",
      "0     This is a sample sentence   \n",
      "1  Another sentence for testing   \n",
      "\n",
      "                                           embedding  similarity  \n",
      "0  [0.05404346436262131, 0.08422980457544327, 0.0...    0.605037  \n",
      "1  [-0.006979598663747311, 0.0739775225520134, -0...    0.438689  \n"
     ]
    }
   ],
   "source": [
    "results = crud.read(\"similar sentence\")\n",
    "print(results)"
   ]
  },
  {
   "cell_type": "markdown",
   "metadata": {},
   "source": [
    "##### Actualizar un embedding"
   ]
  },
  {
   "cell_type": "code",
   "execution_count": 5,
   "metadata": {},
   "outputs": [
    {
     "name": "stdout",
     "output_type": "stream",
     "text": [
      "El texto en el índice 0 ha sido actualizado de 'This is a sample sentence' a 'Updated sentence'\n"
     ]
    }
   ],
   "source": [
    "crud.update(0, \"Updated sentence\")"
   ]
  },
  {
   "cell_type": "markdown",
   "metadata": {},
   "source": [
    "##### Eliminar un embedding"
   ]
  },
  {
   "cell_type": "code",
   "execution_count": 6,
   "metadata": {},
   "outputs": [
    {
     "name": "stdout",
     "output_type": "stream",
     "text": [
      "Se ha eliminado el texto 'Another sentence for testing' del índice 1\n"
     ]
    }
   ],
   "source": [
    "crud.delete(1)"
   ]
  }
 ],
 "metadata": {
  "kernelspec": {
   "display_name": "Python 3",
   "language": "python",
   "name": "python3"
  },
  "language_info": {
   "codemirror_mode": {
    "name": "ipython",
    "version": 3
   },
   "file_extension": ".py",
   "mimetype": "text/x-python",
   "name": "python",
   "nbconvert_exporter": "python",
   "pygments_lexer": "ipython3",
   "version": "3.10.11"
  }
 },
 "nbformat": 4,
 "nbformat_minor": 2
}

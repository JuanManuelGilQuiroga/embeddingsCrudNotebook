{
 "cells": [
  {
   "cell_type": "markdown",
   "metadata": {},
   "source": [
    "# Embedding CRUD Notebook\n",
    "\n",
    "Este codigo incluye la clase EmbeddingCRUD la cual contiene las funcionalidades CRUD y las importaciones necesarias para el funcionamiento de la misma."
   ]
  },
  {
   "cell_type": "code",
   "execution_count": 1,
   "metadata": {},
   "outputs": [
    {
     "name": "stderr",
     "output_type": "stream",
     "text": [
      "C:\\Users\\Solvo\\AppData\\Local\\Packages\\PythonSoftwareFoundation.Python.3.10_qbz5n2kfra8p0\\LocalCache\\local-packages\\Python310\\site-packages\\tqdm\\auto.py:21: TqdmWarning: IProgress not found. Please update jupyter and ipywidgets. See https://ipywidgets.readthedocs.io/en/stable/user_install.html\n",
      "  from .autonotebook import tqdm as notebook_tqdm\n"
     ]
    }
   ],
   "source": [
    "from qdrant_client import QdrantClient\n",
    "from sentence_transformers import SentenceTransformer\n",
    "from qdrant_client.models import VectorParams, Distance\n",
    "import random\n",
    "\n",
    "class EmbeddingCRUD:\n",
    "    def __init__(self):\n",
    "        self.model = SentenceTransformer('all-MiniLM-L6-v2')\n",
    "        self.client = QdrantClient(\n",
    "            url=\"https://4715095d-53aa-4f96-8cfe-e542e53f8dd8.eu-west-2-0.aws.cloud.qdrant.io:6333\", \n",
    "            api_key=\"2Md9iPHFRxTCSdr6a_tgQrk1BJaf2SAfzx6e9qvqaH7aDc-wogWwtw\",\n",
    "            https=True\n",
    "        )\n",
    "        self.index_name = \"embeddings_index\"\n",
    "\n",
    "        self._initialize_collection()\n",
    "\n",
    "    def _initialize_collection(self):\n",
    "        try:\n",
    "            # Verifica si la colección ya existe\n",
    "            self.client.get_collection(self.index_name)\n",
    "            print(f\"La colección '{self.index_name}' ya existe.\")\n",
    "        except:\n",
    "            print(f\"Colección '{self.index_name}' no encontrada, creando...\")\n",
    "\n",
    "            self.client.create_collection(\n",
    "                collection_name=self.index_name,\n",
    "                vectors_config=VectorParams(\n",
    "                    size=self.model.get_sentence_embedding_dimension(),\n",
    "                    distance=Distance.COSINE  # Se usa distancia de coseno para la similitud\n",
    "                )\n",
    "            )\n",
    "            print(f\"Colección '{self.index_name}' creada exitosamente.\")\n",
    "\n",
    "    def id_generation(self):\n",
    "        return random.randint(1000, 9999)\n",
    "\n",
    "    def create(self, text):\n",
    "        embedding = self.model.encode([text])[0].tolist()\n",
    "        new_id = self.id_generation()\n",
    "        self.client.upsert(\n",
    "            collection_name=self.index_name,\n",
    "            points=[{\n",
    "                'id': new_id,\n",
    "                'vector': embedding,\n",
    "                'payload': {'text': text}\n",
    "            }]\n",
    "        )\n",
    "        return new_id, embedding\n",
    "\n",
    "    def read(self):\n",
    "        embeddings = []\n",
    "        scroll_response = self.client.scroll(collection_name=self.index_name, limit=1000)\n",
    "\n",
    "        while scroll_response and scroll_response[0]:\n",
    "            for point in scroll_response[0]:\n",
    "                embeddings.append({\n",
    "                    'id': point.id,\n",
    "                    'vector': point.vector if point.vector else [],\n",
    "                    'payload': point.payload.get('text', '')\n",
    "                })\n",
    "\n",
    "            scroll_token = scroll_response[1]\n",
    "            if not scroll_token:\n",
    "                break\n",
    "            \n",
    "            scroll_response = self.client.scroll(collection_name=self.index_name, scroll_token=scroll_token)\n",
    "\n",
    "        return embeddings\n",
    "\n",
    "    def read_similarity(self, text_query, top_k=5):\n",
    "        embedding_query = self.model.encode([text_query])[0]\n",
    "        resultados = self.client.search(\n",
    "            collection_name=self.index_name,\n",
    "            query_vector=embedding_query.tolist(),\n",
    "            limit=top_k\n",
    "        )\n",
    "    \n",
    "        return [{\n",
    "            \"id\": res.id,\n",
    "            \"text\": res.payload[\"text\"],\n",
    "            \"score\": res.score\n",
    "        } for res in resultados]\n",
    "    \n",
    "    def update(self, id, new_text):\n",
    "        updated_embedding = self.model.encode([new_text])[0]\n",
    "        self.client.upsert(\n",
    "            collection_name=self.index_name,\n",
    "            points=[{\n",
    "                'id': id,\n",
    "                'vector': updated_embedding.tolist(),\n",
    "                'payload': {'text': new_text}\n",
    "            }]\n",
    "        )\n",
    "        print(f\"El texto en el id {id} ha sido actualizado a '{new_text}'\")\n",
    "\n",
    "    def delete(self, id):\n",
    "        self.client.delete(\n",
    "            collection_name=self.index_name,\n",
    "            points_selector=[id]\n",
    "        )\n",
    "        print(f\"Se ha eliminado el índice {id}\")"
   ]
  },
  {
   "cell_type": "markdown",
   "metadata": {},
   "source": [
    "## Example execution file\n",
    "\n",
    "Instancia de la clase con los metodos CRUD"
   ]
  },
  {
   "cell_type": "code",
   "execution_count": 2,
   "metadata": {},
   "outputs": [
    {
     "name": "stdout",
     "output_type": "stream",
     "text": [
      "La colección 'embeddings_index' ya existe.\n"
     ]
    }
   ],
   "source": [
    "crud = EmbeddingCRUD()\n"
   ]
  },
  {
   "cell_type": "markdown",
   "metadata": {},
   "source": [
    "##### Crear algunos embeddings"
   ]
  },
  {
   "cell_type": "code",
   "execution_count": 3,
   "metadata": {},
   "outputs": [],
   "source": [
    "id1, embedding1 = crud.create(\"This is a sample sentence\")\n",
    "id2, embedding2 = crud.create(\"Another sentence for testing\")"
   ]
  },
  {
   "cell_type": "markdown",
   "metadata": {},
   "source": [
    "#### Leer los embeddings"
   ]
  },
  {
   "cell_type": "code",
   "execution_count": 4,
   "metadata": {},
   "outputs": [
    {
     "name": "stdout",
     "output_type": "stream",
     "text": [
      "[{'id': 5292, 'vector': [], 'payload': 'This is a sample sentence'}, {'id': 7959, 'vector': [], 'payload': 'buenos dias'}, {'id': 8478, 'vector': [], 'payload': 'Another sentence for testing'}]\n"
     ]
    }
   ],
   "source": [
    "results = crud.read()\n",
    "print(results)"
   ]
  },
  {
   "cell_type": "markdown",
   "metadata": {},
   "source": [
    "##### Buscar embeddings similares a una query"
   ]
  },
  {
   "cell_type": "code",
   "execution_count": 5,
   "metadata": {},
   "outputs": [
    {
     "name": "stderr",
     "output_type": "stream",
     "text": [
      "C:\\Users\\Solvo\\AppData\\Local\\Temp\\ipykernel_19400\\3177342025.py:73: DeprecationWarning: `search` method is deprecated and will be removed in the future. Use `query_points` instead.\n",
      "  resultados = self.client.search(\n"
     ]
    },
    {
     "name": "stdout",
     "output_type": "stream",
     "text": [
      "\n",
      "Embeddings más similares a la consulta:\n",
      "{'id': 5292, 'text': 'This is a sample sentence', 'score': 0.6702967}\n",
      "{'id': 8478, 'text': 'Another sentence for testing', 'score': 0.41199708}\n",
      "{'id': 7959, 'text': 'buenos dias', 'score': 0.16050598}\n"
     ]
    }
   ],
   "source": [
    "resultados = crud.read_similarity(\"sample\")\n",
    "print(\"\\nEmbeddings más similares a la consulta:\")\n",
    "for resultado in resultados:\n",
    "    print(resultado)"
   ]
  },
  {
   "cell_type": "markdown",
   "metadata": {},
   "source": [
    "##### Actualizar un embedding"
   ]
  },
  {
   "cell_type": "code",
   "execution_count": 6,
   "metadata": {},
   "outputs": [
    {
     "name": "stdout",
     "output_type": "stream",
     "text": [
      "El texto en el id 5292 ha sido actualizado a 'Updated sentence'\n"
     ]
    }
   ],
   "source": [
    "crud.update(5292, \"Updated sentence\")"
   ]
  },
  {
   "cell_type": "markdown",
   "metadata": {},
   "source": [
    "##### Eliminar un embedding"
   ]
  },
  {
   "cell_type": "code",
   "execution_count": 7,
   "metadata": {},
   "outputs": [
    {
     "name": "stdout",
     "output_type": "stream",
     "text": [
      "Se ha eliminado el índice 5292\n"
     ]
    }
   ],
   "source": [
    "crud.delete(5292)"
   ]
  }
 ],
 "metadata": {
  "kernelspec": {
   "display_name": "Python 3",
   "language": "python",
   "name": "python3"
  },
  "language_info": {
   "codemirror_mode": {
    "name": "ipython",
    "version": 3
   },
   "file_extension": ".py",
   "mimetype": "text/x-python",
   "name": "python",
   "nbconvert_exporter": "python",
   "pygments_lexer": "ipython3",
   "version": "3.10.11"
  }
 },
 "nbformat": 4,
 "nbformat_minor": 2
}
